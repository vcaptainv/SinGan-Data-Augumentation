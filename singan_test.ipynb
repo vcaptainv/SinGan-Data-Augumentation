{
 "cells": [
  {
   "cell_type": "code",
   "execution_count": null,
   "metadata": {},
   "outputs": [],
   "source": [
    "#train the model of image1\n",
    "!python main_train.py --input_name cat9.png"
   ]
  },
  {
   "cell_type": "code",
   "execution_count": null,
   "metadata": {},
   "outputs": [],
   "source": [
    "!python random_samples.py --input_name cat9.png --mode random_samples --gen_start_scale 2"
   ]
  },
  {
   "cell_type": "code",
   "execution_count": null,
   "metadata": {},
   "outputs": [],
   "source": [
    "import cv2\n",
    "\n",
    "\n",
    "frame1 = cv2.imread(\"./Input/Images/cat9.png\")\n",
    "frame2 = frame1\n",
    "frame3 = cv2.imread(\"./Output/RandomSamples/cat9/gen_start_scale=2//0.png\")\n",
    "\n",
    "compare1 = cv2.compare(frame1,frame2,0)\n",
    "compare2 = cv2.compare(frame1,frame3,0)\n",
    "\n",
    "\n",
    "\n",
    "if compare1.all():\n",
    "    print (\"equal\")\n",
    "else:\n",
    "    print (\"not equal\")\n",
    "\n",
    "if compare2.all():\n",
    "    print (\"equal\")\n",
    "else:\n",
    "    print (\"not equal\")\n",
    "\n",
    "cv2.waitKey(0)\n",
    "cv2.destroyAllWindows()\n"
   ]
  },
  {
   "cell_type": "code",
   "execution_count": null,
   "metadata": {},
   "outputs": [],
   "source": [
    "!python main_train.py --input_name balloons.png"
   ]
  },
  {
   "cell_type": "code",
   "execution_count": null,
   "metadata": {},
   "outputs": [],
   "source": [
    "!python random_samples.py --input_name balloons.png --mode random_samples --gen_start_scale 4"
   ]
  },
  {
   "cell_type": "code",
   "execution_count": null,
   "metadata": {},
   "outputs": [],
   "source": [
    "1+2"
   ]
  },
  {
   "cell_type": "code",
   "execution_count": null,
   "metadata": {},
   "outputs": [],
   "source": [
    "!python main_train.py --input_name airplane29.png "
   ]
  },
  {
   "cell_type": "code",
   "execution_count": null,
   "metadata": {},
   "outputs": [],
   "source": [
    "# rename the files\n",
    "import os\n",
    "class_list = ['cat', 'dog']\n",
    "\n",
    "for i in class_list:\n",
    "    path = \"./Input/Images/\" + i +'/'\n",
    "    print(path)\n",
    "    for n in range(20):\n",
    "        os.rename('{}{}.png'.format(path, n), \"{}{}{}.png\".format(path,i, n))"
   ]
  },
  {
   "cell_type": "code",
   "execution_count": null,
   "metadata": {},
   "outputs": [],
   "source": [
    "for i in class_list:\n",
    "    path = './' + i +'/'\n",
    "    for n in range(20):\n",
    "        filename = path + i + str(n) + '.png'\n",
    "        print(filename)\n",
    "        os.system(\"python main_train.py --input_name {}\".format(filename))"
   ]
  },
  {
   "cell_type": "code",
   "execution_count": null,
   "metadata": {},
   "outputs": [],
   "source": [
    "#random sample\n",
    "for i in class_list:\n",
    "    path = './' + i +'/'\n",
    "    for n in range(20):\n",
    "        filename = path + i + str(n) + '.png'\n",
    "        print(filename)\n",
    "        os.system(\"python random_samples.py --input_name {} --mode random_samples --gen_start_scale 1\".format(filename))"
   ]
  },
  {
   "cell_type": "code",
   "execution_count": null,
   "metadata": {},
   "outputs": [],
   "source": [
    "!python random_samples.py --input_name ./cat/cat0.png --mode random_samples --gen_start_scale 1"
   ]
  },
  {
   "cell_type": "code",
   "execution_count": null,
   "metadata": {},
   "outputs": [],
   "source": [
    "!cp -r ./Output/RandomSamples/cat ./Data\\ Augmentation/singan-generated"
   ]
  },
  {
   "cell_type": "code",
   "execution_count": null,
   "metadata": {},
   "outputs": [],
   "source": [
    "!cp -r ./Output/RandomSamples/dog ./Data\\ Augmentation/singan-generated"
   ]
  },
  {
   "cell_type": "code",
   "execution_count": null,
   "metadata": {},
   "outputs": [],
   "source": [
    "#rename files\n",
    "for i in class_list:\n",
    "    path = './Data Augmentation/singan-generated/' + i +'/' \n",
    "    for n in range(20):\n",
    "        for j in range(50):\n",
    "            filepath = path + i + str(n) + '/' + 'gen_start_scale=1/'\n",
    "            filename = str(j) + '.png'\n",
    "            #print(os.path.isdir(filepath))\n",
    "            newname = i + str(n) + '_' + str(j) + '.png'\n",
    "            #print(filepath + filename)\n",
    "            try:\n",
    "                os.rename(filepath + filename, filepath + newname)\n",
    "            except:\n",
    "                pass"
   ]
  },
  {
   "cell_type": "code",
   "execution_count": null,
   "metadata": {},
   "outputs": [],
   "source": [
    "import shutil\n",
    "import os\n",
    "\n",
    "for i in class_list:\n",
    "    path = './Data Augmentation/singan-generated/' + i +'/' \n",
    "    for n in range(20):\n",
    "        source = './Data Augmentation/singan-generated/{}/{}/gen_start_scale=1/'.format(i, i+str(n))\n",
    "        dest1 = './Data Augmentation/singan-generated/{}/'.format(i)\n",
    "        files = os.listdir(source)\n",
    "        for f in files:\n",
    "            shutil.move(source+f, dest1+f)"
   ]
  },
  {
   "cell_type": "code",
   "execution_count": null,
   "metadata": {},
   "outputs": [],
   "source": [
    "dest1 = './Data Augmentation/singan-generated/cat'\n",
    "files = os.listdir(dest1)\n",
    "len(files)"
   ]
  },
  {
   "cell_type": "code",
   "execution_count": null,
   "metadata": {},
   "outputs": [],
   "source": []
  }
 ],
 "metadata": {
  "kernelspec": {
   "display_name": "Python 3",
   "language": "python",
   "name": "python3"
  },
  "language_info": {
   "codemirror_mode": {
    "name": "ipython",
    "version": 3
   },
   "file_extension": ".py",
   "mimetype": "text/x-python",
   "name": "python",
   "nbconvert_exporter": "python",
   "pygments_lexer": "ipython3",
   "version": "3.7.4"
  }
 },
 "nbformat": 4,
 "nbformat_minor": 4
}
