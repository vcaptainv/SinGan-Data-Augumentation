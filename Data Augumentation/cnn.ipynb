{
 "cells": [
  {
   "cell_type": "code",
   "execution_count": 2,
   "metadata": {},
   "outputs": [],
   "source": [
    "import numpy as np\n",
    "import torch.nn as nn\n",
    "import torch\n",
    "import pandas\n",
    "import torchvision.transforms as transforms\n",
    "import torchvision.datasets as datasets\n",
    "import torch.utils.data as udata\n",
    "import torch.nn.functional as F\n",
    "import torch.optim as optim\n",
    "\n",
    "torch.manual_seed(0)\n",
    "np.random.seed(0)"
   ]
  },
  {
   "cell_type": "code",
   "execution_count": 37,
   "metadata": {},
   "outputs": [],
   "source": [
    "trainpath = \"cifar10-2classes-trainset\"\n",
    "#trainpath = \"singan-train\"\n",
    "transformer = transforms.Compose(\n",
    "    [transforms.ToTensor(),\n",
    "     transforms.Normalize((0.5, 0.5, 0.5), (0.5, 0.5, 0.5))])\n",
    "trainset1 = datasets.ImageFolder(root=trainpath, transform=transformer)\n",
    "trainset2 = datasets.ImageFolder(root=\"singan-train\", transform=transformer)\n",
    "trainset = udata.ConcatDataset([trainset1, trainset2])\n",
    "#trainset.idx_to_class = {v: k for k, v in trainset.class_to_idx.items()}"
   ]
  },
  {
   "cell_type": "code",
   "execution_count": 22,
   "metadata": {},
   "outputs": [
    {
     "name": "stdout",
     "output_type": "stream",
     "text": [
      "{0: 'cat', 1: 'dog'}\n",
      "{'cat': 0, 'dog': 1}\n"
     ]
    }
   ],
   "source": [
    "print(trainset.idx_to_class)\n",
    "print(trainset.class_to_idx)"
   ]
  },
  {
   "cell_type": "code",
   "execution_count": 38,
   "metadata": {},
   "outputs": [],
   "source": [
    "testpath = \"cifar10-2classes-testset\"\n",
    "testset = datasets.ImageFolder(root=testpath, transform=transformer)\n",
    "testset.idx_to_class = {v: k for k, v in testset.class_to_idx.items()}"
   ]
  },
  {
   "cell_type": "code",
   "execution_count": 39,
   "metadata": {},
   "outputs": [
    {
     "name": "stdout",
     "output_type": "stream",
     "text": [
      "{0: 'cat', 1: 'dog'}\n",
      "{'cat': 0, 'dog': 1}\n"
     ]
    }
   ],
   "source": [
    "print(testset.idx_to_class)\n",
    "print(testset.class_to_idx)"
   ]
  },
  {
   "cell_type": "code",
   "execution_count": 7,
   "metadata": {},
   "outputs": [
    {
     "name": "stdout",
     "output_type": "stream",
     "text": [
      "cuda\n"
     ]
    }
   ],
   "source": [
    "device = torch.device(\"cuda\" if torch.cuda.is_available() else \"cpu\")\n",
    "print(device)"
   ]
  },
  {
   "cell_type": "code",
   "execution_count": 40,
   "metadata": {},
   "outputs": [],
   "source": [
    "trainloader = udata.DataLoader(trainset, batch_size = 20, shuffle=True)\n",
    "testloader = udata.DataLoader(testset, batch_size = 20, shuffle=True)"
   ]
  },
  {
   "cell_type": "code",
   "execution_count": 107,
   "metadata": {},
   "outputs": [
    {
     "data": {
      "text/plain": [
       "CNN(\n",
       "  (conv1): Conv2d(3, 16, kernel_size=(5, 5), stride=(1, 1))\n",
       "  (pool): MaxPool2d(kernel_size=2, stride=2, padding=0, dilation=1, ceil_mode=False)\n",
       "  (conv2): Conv2d(16, 32, kernel_size=(5, 5), stride=(1, 1))\n",
       "  (fc1): Linear(in_features=800, out_features=120, bias=True)\n",
       "  (fc2): Linear(in_features=120, out_features=84, bias=True)\n",
       "  (fc3): Linear(in_features=84, out_features=2, bias=True)\n",
       ")"
      ]
     },
     "execution_count": 107,
     "metadata": {},
     "output_type": "execute_result"
    }
   ],
   "source": [
    "class CNN(nn.Module):\n",
    "    def __init__(self):\n",
    "        super(CNN, self).__init__()\n",
    "        self.conv1 = nn.Conv2d(3, 16, 5)\n",
    "        self.pool = nn.MaxPool2d(2, 2)\n",
    "        self.conv2 = nn.Conv2d(16, 32, 5)\n",
    "        self.fc1 = nn.Linear(32 * 5 * 5, 120)\n",
    "        self.fc2 = nn.Linear(120, 84)\n",
    "        self.fc3 = nn.Linear(84, 2)\n",
    "\n",
    "    def forward(self, x):\n",
    "        x = self.pool(F.relu(self.conv1(x)))\n",
    "        x = self.pool(F.relu(self.conv2(x)))\n",
    "        x = x.view(-1, 32 * 5 * 5)\n",
    "        x = F.relu(self.fc1(x))\n",
    "        x = F.relu(self.fc2(x))\n",
    "        x = self.fc3(x)\n",
    "        return x\n",
    "\n",
    "\n",
    "cnn = CNN()\n",
    "cnn.to(device)"
   ]
  },
  {
   "cell_type": "code",
   "execution_count": 98,
   "metadata": {},
   "outputs": [],
   "source": [
    "criterion = nn.CrossEntropyLoss()\n",
    "#optimizer = optim.SGD(cnn.parameters(), lr=0.001, momentum=0.9)\n",
    "optimizer = optim.Adam(cnn.parameters(), lr= 0.001)"
   ]
  },
  {
   "cell_type": "code",
   "execution_count": null,
   "metadata": {},
   "outputs": [],
   "source": []
  },
  {
   "cell_type": "code",
   "execution_count": 99,
   "metadata": {},
   "outputs": [],
   "source": [
    "def accuarcy(dataloader): \n",
    "    correct = 0\n",
    "    total = 0\n",
    "    with torch.no_grad():\n",
    "        for i, data in enumerate(dataloader, 0):\n",
    "            inputs, labels = data[0].to(device), data[1].to(device)\n",
    "            #print(inputs.size())\n",
    "            #print(\"labels: \", labels, labels.size(0))\n",
    "            outputs = cnn(inputs)\n",
    "            #print(outputs.data)\n",
    "            #might change\n",
    "            softmax = nn.Softmax(dim=1)\n",
    "            probability = softmax(outputs.data)\n",
    "            _, predicted = torch.max(probability, 1)\n",
    "            #print(\"pred: \", predicted)\n",
    "            total += labels.size(0)\n",
    "            #print(\"total: \", total)\n",
    "            correct += (predicted == labels).sum().item()\n",
    "            #print(\"correct: \", correct)\n",
    "            if total % 100 == 98:\n",
    "                print(total)\n",
    "    #print(total)    \n",
    "    #print('Accuracy of the network on the train data: %d %%' % (\n",
    "        #100 * correct / total))\n",
    "    return 100 * correct / total"
   ]
  },
  {
   "cell_type": "code",
   "execution_count": 100,
   "metadata": {},
   "outputs": [],
   "source": [
    "def train(cnn,num, epsilon=0.003, filename = None):\n",
    "    pre_epoch = float(\"inf\")\n",
    "    for epoch in range(num):\n",
    "        running_loss = 0.0\n",
    "        total = 0 \n",
    "        for i, data in enumerate(trainloader, 0):\n",
    "            inputs, labels = data[0].to(device), data[1].to(device)\n",
    "            #print(inputs.size())\n",
    "            optimizer.zero_grad()\n",
    "            outputs = cnn(inputs)\n",
    "            #print(inputs.size(), outputs.size())\n",
    "            loss = criterion(outputs, labels)\n",
    "            loss.backward()\n",
    "            optimizer.step()\n",
    "            running_loss += loss.item()\n",
    "            total += 1\n",
    "        test_accuarcy = accuarcy(testloader)\n",
    "        train_accuarcy = accuarcy(trainloader)\n",
    "        epoch_loss = running_loss / total\n",
    "        print('epoch [%d] loss: %.3f' % (epoch + 1, epoch_loss), train_accuarcy, test_accuarcy)\n",
    "        if filename != None:\n",
    "            f = open(filename, 'a')\n",
    "            f.write('epoch {} loss: {}, train_accuracy: {}, test_accuracy: {} \\n'.format(epoch+1, epoch_loss, train_accuarcy, test_accuarcy))\n",
    "        pre_epoch = epoch_loss\n",
    "        \n",
    "    print('Finished Training')\n",
    "    if filename != None:\n",
    "        f.close()"
   ]
  },
  {
   "cell_type": "code",
   "execution_count": null,
   "metadata": {},
   "outputs": [],
   "source": [
    "train(cnn, 100)"
   ]
  },
  {
   "cell_type": "code",
   "execution_count": 120,
   "metadata": {},
   "outputs": [],
   "source": [
    "PATH = './model/cnn_20_cd_e20.pth'\n",
    "torch.save(cnn.state_dict(), PATH)"
   ]
  },
  {
   "cell_type": "code",
   "execution_count": 38,
   "metadata": {},
   "outputs": [
    {
     "data": {
      "text/plain": [
       "CNN(\n",
       "  (conv1): Conv2d(3, 6, kernel_size=(5, 5), stride=(1, 1))\n",
       "  (pool): MaxPool2d(kernel_size=2, stride=2, padding=0, dilation=1, ceil_mode=False)\n",
       "  (conv2): Conv2d(6, 16, kernel_size=(5, 5), stride=(1, 1))\n",
       "  (fc1): Linear(in_features=400, out_features=120, bias=True)\n",
       "  (fc2): Linear(in_features=120, out_features=84, bias=True)\n",
       "  (fc3): Linear(in_features=84, out_features=2, bias=True)\n",
       ")"
      ]
     },
     "execution_count": 38,
     "metadata": {},
     "output_type": "execute_result"
    }
   ],
   "source": [
    "PATH = './model/cnn_batch1_cd.pth'\n",
    "cnn = CNN()\n",
    "cnn.load_state_dict(torch.load(PATH))\n",
    "cnn.to(device)"
   ]
  },
  {
   "cell_type": "code",
   "execution_count": 118,
   "metadata": {},
   "outputs": [
    {
     "name": "stdout",
     "output_type": "stream",
     "text": [
      "41\n",
      "Accuracy of the network on the train data: 85 %\n"
     ]
    }
   ],
   "source": [
    "accuracy(trainloader)"
   ]
  },
  {
   "cell_type": "code",
   "execution_count": 119,
   "metadata": {},
   "outputs": [
    {
     "name": "stdout",
     "output_type": "stream",
     "text": [
      "98\n",
      "198\n",
      "298\n",
      "398\n",
      "498\n",
      "598\n",
      "698\n",
      "798\n",
      "898\n",
      "998\n",
      "1098\n",
      "1198\n",
      "1298\n",
      "1398\n",
      "1498\n",
      "1598\n",
      "1698\n",
      "1798\n",
      "1898\n",
      "1985\n",
      "Accuracy of the network on the test data: 50 %\n"
     ]
    }
   ],
   "source": [
    "accura()"
   ]
  },
  {
   "cell_type": "code",
   "execution_count": 108,
   "metadata": {},
   "outputs": [],
   "source": [
    "def train_model(use_singan, dir_name):\n",
    "    #load train set\n",
    "    trainpath = \"cifar10-2classes-trainset\"\n",
    "    transformer = transforms.Compose(\n",
    "        [transforms.ToTensor(),\n",
    "             transforms.Normalize((0.5, 0.5, 0.5), (0.5, 0.5, 0.5))])\n",
    "    if use_singan:\n",
    "        #trainpath = \"singan-train\"\n",
    "        trainset1 = datasets.ImageFolder(root=trainpath, transform=transformer)\n",
    "        trainset2 = datasets.ImageFolder(root=\"singan-train\", transform=transformer)\n",
    "        trainset = udata.ConcatDataset([trainset1, trainset2])\n",
    "    else:\n",
    "        trainset = datasets.ImageFolder(root=trainpath, transform=transformer)\n",
    "    \n",
    "    #load test set\n",
    "    testpath = \"cifar10-2classes-testset\"\n",
    "    testset = datasets.ImageFolder(root=testpath, transform=transformer)\n",
    "    \n",
    "    #set up device and train/test loader\n",
    "    device = torch.device(\"cuda\" if torch.cuda.is_available() else \"cpu\")\n",
    "    trainloader = udata.DataLoader(trainset, batch_size = 20, shuffle=True)\n",
    "    testloader = udata.DataLoader(testset, batch_size = 20, shuffle=True)\n",
    "    \n",
    "    #Build CNN\n",
    "    class CNN(nn.Module):\n",
    "        def __init__(self):\n",
    "            super(CNN, self).__init__()\n",
    "            self.conv1 = nn.Conv2d(3, 16, 5)\n",
    "            self.pool = nn.MaxPool2d(2, 2)\n",
    "            self.conv2 = nn.Conv2d(16, 32, 5)\n",
    "            self.fc1 = nn.Linear(32 * 5 * 5, 120)\n",
    "            self.fc2 = nn.Linear(120, 84)\n",
    "            self.fc3 = nn.Linear(84, 2)\n",
    "\n",
    "        def forward(self, x):\n",
    "            x = self.pool(F.relu(self.conv1(x)))\n",
    "            x = self.pool(F.relu(self.conv2(x)))\n",
    "            x = x.view(-1, 32 * 5 * 5)\n",
    "            x = F.relu(self.fc1(x))\n",
    "            x = F.relu(self.fc2(x))\n",
    "            x = self.fc3(x)\n",
    "            return x\n",
    "\n",
    "\n",
    "    cnn = CNN()\n",
    "    cnn.to(device)\n",
    "    \n",
    "    return cnn \n",
    "    \n",
    "    \n",
    "    \n",
    "   \n",
    "    "
   ]
  },
  {
   "cell_type": "code",
   "execution_count": null,
   "metadata": {},
   "outputs": [],
   "source": [
    "# run train model 20 times, assign each experiment with a different random seed and save the output to a file\n",
    "\n",
    "import time\n",
    "import os\n",
    "for experiment_num in range(20):\n",
    "    t = int(time.time())\n",
    "    \n",
    "    dir_name = str(t)\n",
    "    print(dir_name)\n",
    "    #make directory\n",
    "    os.system(\"mkdir result\")\n",
    "    os.system(\"mkdir ./result/{}\".format(dir_name))\n",
    "    \n",
    "    #set random seed\n",
    "    torch.manual_seed(t)\n",
    "    np.random.seed(t)\n",
    "    \n",
    "    #train model without singan-generated images\n",
    "    use_singan = False\n",
    "    cnn1 = train_model(use_singan, dir_name)\n",
    "    criterion = nn.CrossEntropyLoss()\n",
    "    optimizer = optim.Adam(cnn.parameters(), lr= 0.001)\n",
    "    \n",
    "    #start training data and save the print out to a file\n",
    "    \n",
    "    if use_singan:\n",
    "        filename = './result/{}/with_singan.txt'.format(dir_name)\n",
    "    else:\n",
    "        filename = './result/{}/without_singan.txt'.format(dir_name)\n",
    "    train(cnn1, 10, filename = filename)\n",
    "    \n",
    "    \n",
    "    #set random seed\n",
    "    torch.manual_seed(t)\n",
    "    np.random.seed(t)\n",
    "    \n",
    "    #train model with singan-generated images\n",
    "    use_singan = True\n",
    "    cnn1 = train_model(use_singan, dir_name)\n",
    "    criterion = nn.CrossEntropyLoss()\n",
    "    #optimizer = optim.SGD(cnn.parameters(), lr=0.001, momentum=0.9)\n",
    "    optimizer = optim.Adam(cnn.parameters(), lr= 0.001)\n",
    "    \n",
    "    #start training data and save the print out to a file\n",
    "    \n",
    "    if use_singan:\n",
    "        filename = './result/{}/with_singan.txt'.format(dir_name)\n",
    "    else:\n",
    "        filename = './result/{}/without_singan.txt'.format(dir_name)\n",
    "    train(cnn1, 10, filename = filename)\n",
    "\n",
    "    \n",
    "    \n",
    "    \n",
    "    \n",
    "    \n",
    "    "
   ]
  },
  {
   "cell_type": "code",
   "execution_count": null,
   "metadata": {},
   "outputs": [],
   "source": []
  }
 ],
 "metadata": {
  "kernelspec": {
   "display_name": "Python 3",
   "language": "python",
   "name": "python3"
  },
  "language_info": {
   "codemirror_mode": {
    "name": "ipython",
    "version": 3
   },
   "file_extension": ".py",
   "mimetype": "text/x-python",
   "name": "python",
   "nbconvert_exporter": "python",
   "pygments_lexer": "ipython3",
   "version": "3.7.4"
  }
 },
 "nbformat": 4,
 "nbformat_minor": 4
}
