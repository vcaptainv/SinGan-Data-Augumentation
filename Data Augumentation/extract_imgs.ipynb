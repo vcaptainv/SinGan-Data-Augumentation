{
 "cells": [
  {
   "cell_type": "code",
   "execution_count": 1,
   "metadata": {},
   "outputs": [],
   "source": [
    "import torch\n",
    "import torchvision\n",
    "import torchvision.transforms as transforms"
   ]
  },
  {
   "cell_type": "code",
   "execution_count": 2,
   "metadata": {},
   "outputs": [
    {
     "name": "stdout",
     "output_type": "stream",
     "text": [
      "Downloading https://www.cs.toronto.edu/~kriz/cifar-10-python.tar.gz to ./data/cifar-10-python.tar.gz\n"
     ]
    },
    {
     "data": {
      "application/vnd.jupyter.widget-view+json": {
       "model_id": "3cf1dc0a8c71409990961f553c262af5",
       "version_major": 2,
       "version_minor": 0
      },
      "text/plain": [
       "HBox(children=(FloatProgress(value=1.0, bar_style='info', max=1.0), HTML(value='')))"
      ]
     },
     "metadata": {},
     "output_type": "display_data"
    },
    {
     "name": "stdout",
     "output_type": "stream",
     "text": [
      "Extracting ./data/cifar-10-python.tar.gz to ./data\n",
      "Files already downloaded and verified\n"
     ]
    }
   ],
   "source": [
    "transform = transforms.Compose(\n",
    "    [transforms.ToTensor(),\n",
    "     transforms.Normalize((0.5, 0.5, 0.5), (0.5, 0.5, 0.5))])\n",
    "\n",
    "trainset = torchvision.datasets.CIFAR10(root='./data', train=True,\n",
    "                                        download=True, transform=transform)\n",
    "trainloader = torch.utils.data.DataLoader(trainset, batch_size=4,\n",
    "                                          shuffle=True, num_workers=2)\n",
    "\n",
    "testset = torchvision.datasets.CIFAR10(root='./data', train=False,\n",
    "                                       download=True, transform=transform)\n",
    "testloader = torch.utils.data.DataLoader(testset, batch_size=4,\n",
    "                                         shuffle=False, num_workers=2)\n",
    "\n",
    "classes = ('plane', 'car', 'bird', 'cat',\n",
    "           'deer', 'dog', 'frog', 'horse', 'ship', 'truck')"
   ]
  },
  {
   "cell_type": "code",
   "execution_count": 1,
   "metadata": {},
   "outputs": [],
   "source": [
    "import mxnet as mx\n",
    "import numpy as np\n",
    "import pickle\n",
    "import cv2\n",
    "\n",
    "def extractImagesAndLabels(file):\n",
    "    f = open(file, 'rb')\n",
    "    dict = pickle.load(f, encoding='latin1')\n",
    "    images = dict['data']\n",
    "    images = np.reshape(images, (10000, 3, 32, 32))\n",
    "    labels = dict['labels']\n",
    "    imagearray = mx.nd.array(images)\n",
    "    labelarray = mx.nd.array(labels)\n",
    "    return imagearray, labelarray\n",
    "\n",
    "def extractCategories(file):\n",
    "    f = open(file, 'rb')\n",
    "    dict = pickle.load(f, encoding='latin1')\n",
    "    return dict['label_names']\n",
    "\n",
    "def saveCifarImage(array, path, file):\n",
    "    # array is 3x32x32. cv2 needs 32x32x3\n",
    "    array = array.asnumpy().transpose(1,2,0)\n",
    "    # array is RGB. cv2 needs BGR\n",
    "    array = cv2.cvtColor(array, cv2.COLOR_RGB2BGR)\n",
    "    # save to PNG file\n",
    "    return cv2.imwrite(path+file+\".png\", array)"
   ]
  },
  {
   "cell_type": "code",
   "execution_count": 2,
   "metadata": {},
   "outputs": [],
   "source": [
    "classes = {}\n",
    "imgarray, lblarray = extractImagesAndLabels(\"data/cifar-10-batches-py/data_batch_2\")\n",
    "#print(imgarray)\n",
    "#print(lblarray)"
   ]
  },
  {
   "cell_type": "code",
   "execution_count": 3,
   "metadata": {},
   "outputs": [
    {
     "name": "stdout",
     "output_type": "stream",
     "text": [
      "['airplane', 'automobile', 'bird', 'cat', 'deer', 'dog', 'frog', 'horse', 'ship', 'truck']\n"
     ]
    }
   ],
   "source": [
    "categories = extractCategories(\"./data/cifar-10-batches-py/batches.meta\")\n",
    "print(categories)"
   ]
  },
  {
   "cell_type": "code",
   "execution_count": 4,
   "metadata": {},
   "outputs": [],
   "source": [
    "for name in categories:\n",
    "    classes[name] = []\n",
    "\n",
    "for i in range(len(imgarray)):\n",
    "    category = lblarray[i].asnumpy()\n",
    "    category = (int)(category[0])\n",
    "    category_name = categories[category]\n",
    "    classes[category_name].append(imgarray[i])"
   ]
  },
  {
   "cell_type": "code",
   "execution_count": 5,
   "metadata": {},
   "outputs": [
    {
     "name": "stdout",
     "output_type": "stream",
     "text": [
      "dict_keys(['airplane', 'automobile', 'bird', 'cat', 'deer', 'dog', 'frog', 'horse', 'ship', 'truck'])\n",
      "984\n",
      "1007\n",
      "1010\n",
      "995\n",
      "1010\n",
      "988\n",
      "1008\n",
      "1026\n",
      "987\n",
      "985\n",
      "10000\n"
     ]
    }
   ],
   "source": [
    "print(classes.keys())\n",
    "total = 0\n",
    "for name in classes.keys():\n",
    "    length = len(classes[name])\n",
    "    print(length)\n",
    "    total += length\n",
    "print(total)"
   ]
  },
  {
   "cell_type": "code",
   "execution_count": 7,
   "metadata": {},
   "outputs": [
    {
     "name": "stdout",
     "output_type": "stream",
     "text": [
      "cifar10-classes-batch2/airplane/\n",
      "cifar10-classes-batch2/automobile/\n",
      "cifar10-classes-batch2/bird/\n",
      "cifar10-classes-batch2/cat/\n",
      "cifar10-classes-batch2/deer/\n",
      "cifar10-classes-batch2/dog/\n",
      "cifar10-classes-batch2/frog/\n",
      "cifar10-classes-batch2/horse/\n",
      "cifar10-classes-batch2/ship/\n",
      "cifar10-classes-batch2/truck/\n"
     ]
    }
   ],
   "source": [
    "path = \"cifar10-classes-batch2/\"\n",
    "for name in classes.keys():\n",
    "    folder = path+name+\"/\"\n",
    "    print(folder)\n",
    "    for i in range(len(classes[name])):\n",
    "        saveCifarImage(classes[name][i], folder, (str)(i))"
   ]
  },
  {
   "cell_type": "code",
   "execution_count": null,
   "metadata": {},
   "outputs": [],
   "source": []
  }
 ],
 "metadata": {
  "kernelspec": {
   "display_name": "Python 3",
   "language": "python",
   "name": "python3"
  },
  "language_info": {
   "codemirror_mode": {
    "name": "ipython",
    "version": 3
   },
   "file_extension": ".py",
   "mimetype": "text/x-python",
   "name": "python",
   "nbconvert_exporter": "python",
   "pygments_lexer": "ipython3",
   "version": "3.7.4"
  }
 },
 "nbformat": 4,
 "nbformat_minor": 4
}
